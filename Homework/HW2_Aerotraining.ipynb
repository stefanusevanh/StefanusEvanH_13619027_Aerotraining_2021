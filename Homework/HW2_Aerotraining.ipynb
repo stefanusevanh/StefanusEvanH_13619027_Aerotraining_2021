{
 "cells": [
  {
   "cell_type": "code",
   "execution_count": 114,
   "metadata": {},
   "outputs": [],
   "source": [
    "class Aero1Calc:\n",
    "    def __init__(self,Mach,gamma=1.4,R=287,T0_T=None):\n",
    "        self.M = Mach\n",
    "        self.gamma = gamma\n",
    "        self.R = R\n",
    "        #self.T0_T = T0_T\n",
    "    #def find_isen(self):\n",
    "    #    if (self.T0_T != None): \n",
    "    #        print(\"cari T0_T\")\n",
    "    def isen(self):\n",
    "        T0_T = 1 + (self.gamma-1)/2*self.M**2\n",
    "        P0_P = (T0_T)**(self.gamma/(self.gamma - 1))\n",
    "        rho0_rho = (T0_T)**(1/(self.gamma - 1))\n",
    "        T_Tstar = 1/T0_T *(self.gamma+1)/2\n",
    "        P_Pstar = (T_Tstar)**(self.gamma/(self.gamma - 1))\n",
    "        rho_rhostar= (T_Tstar)**(1/(self.gamma - 1))\n",
    "        A_Astar = 1/self.M *((2/(self.gamma+1)*(1+(self.gamma-1)/2*self.M**2)))**((self.gamma+1)/(2*(self.gamma-1)))\n",
    "        return [T0_T,P0_P,rho0_rho,T_Tstar,P_Pstar,rho_rhostar,A_Astar]\n",
    "    def rayleigh(self):\n",
    "        P_Pstar=(1+self.gamma)/(1+self.gamma*self.M**2)\n",
    "        T_Tstar=(self.M**2)*((1+self.gamma)/(1+self.gamma*self.M**2))**2\n",
    "        rho_rhostar=P_Pstar/T_Tstar\n",
    "        P0_P0star=(1+self.gamma)/(1+self.gamma*self.M**2)*((2+(self.gamma-1)*self.M**2)/(self.gamma+1))**(self.gamma/(self.gamma-1))\n",
    "        T0_T0star=(self.gamma+1)*self.M**2/(1+self.gamma*self.M**2)**2*(2+(self.gamma-1)*self.M**2)\n",
    "        return [P_Pstar,T_Tstar,rho_rhostar,P0_P0star,T0_T0star]\n",
    "    def fanno(self):\n",
    "        import numpy as np\n",
    "        T_Tstar=(self.gamma+1)/(2+(self.gamma-1)*self.M**2)\n",
    "        P_Pstar=(1/self.M)*((self.gamma+1)/(2+(self.gamma-1)*self.M**2))**(1/2)\n",
    "        rho_rhostar=P_Pstar/T_Tstar\n",
    "        P0_P0star=(1/self.M)*((2+(self.gamma-1)*self.M**2)/(self.gamma+1))**((self.gamma+1)/(2*(self.gamma-1)))\n",
    "        four_f_Lstar_D=((1-self.M**2)/(self.gamma*self.M**2))+((self.gamma+1)/(2*self.gamma))*np.log(((self.gamma+1)*self.M**2)/(2+(self.gamma-1)*self.M**2))\n",
    "        return T_Tstar,P_Pstar,rho_rhostar,P0_P0star,four_f_Lstar_D\n",
    "   "
   ]
  },
  {
   "cell_type": "code",
   "execution_count": 136,
   "metadata": {
    "scrolled": true
   },
   "outputs": [
    {
     "name": "stdout",
     "output_type": "stream",
     "text": [
      "[1.018, 1.0644302861529382, 1.0456093184213537, 1.1787819253438114, 1.7783495860299836, 1.5086332321487692, 2.0350652623456793]\n",
      "[2.1314387211367674, 0.40887279197650245, 5.212962962962963, 1.1985487768437175, 0.346860418526733]\n",
      "(1.1787819253438114, 3.6190574668364373, 3.0701670843662443, 2.0350652623456793, 5.299253105091152)\n",
      "[1.7999999999999998, 7.824449066867263, 4.3469161482595915, 0.6666666666666666, 0.24192491286747428, 0.36288736930121146, 1.6875000000000002]\n",
      "[0.36363636363636365, 0.5289256198347108, 0.6875, 1.5030959785260414, 0.793388429752066]\n",
      "(0.6666666666666667, 0.408248290463863, 0.6123724356957945, 1.6875000000000002, 0.3049965025814798)\n",
      "1.7999999999999998\n"
     ]
    }
   ],
   "source": [
    "inlet_1= Aero1Calc(Mach=0.3)\n",
    "outlet_2= Aero1Calc(Mach=2)\n",
    "\n",
    "inlet_isen=inlet_1.isen()\n",
    "inlet_rayleigh= inlet_1.rayleigh()\n",
    "inlet_fanno=inlet_1.fanno()\n",
    "\n",
    "outlet_isen=outlet_2.isen()\n",
    "outlet_rayleigh=outlet_2.rayleigh()\n",
    "outlet_fanno=outlet_2.fanno()\n",
    "\n",
    "print(inlet_isen)\n",
    "print(inlet_rayleigh)\n",
    "print(inlet_fanno)\n",
    "print(outlet_isen)\n",
    "print(outlet_rayleigh)\n",
    "print(outlet_fanno)\n",
    "\n",
    "[T0_T,__,__,__,__,__,__]=Aero1Calc(Mach=2).isen()\n",
    "print(T0_T)\n"
   ]
  },
  {
   "cell_type": "code",
   "execution_count": null,
   "metadata": {},
   "outputs": [],
   "source": [
    "##not finished yet"
   ]
  }
 ],
 "metadata": {
  "kernelspec": {
   "display_name": "Python 3",
   "language": "python",
   "name": "python3"
  },
  "language_info": {
   "codemirror_mode": {
    "name": "ipython",
    "version": 3
   },
   "file_extension": ".py",
   "mimetype": "text/x-python",
   "name": "python",
   "nbconvert_exporter": "python",
   "pygments_lexer": "ipython3",
   "version": "3.8.5"
  }
 },
 "nbformat": 4,
 "nbformat_minor": 4
}
