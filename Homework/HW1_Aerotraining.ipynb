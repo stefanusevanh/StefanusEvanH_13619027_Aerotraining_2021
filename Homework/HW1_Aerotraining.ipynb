{
 "cells": [
  {
   "cell_type": "code",
   "execution_count": 9,
   "metadata": {},
   "outputs": [
    {
     "name": "stdout",
     "output_type": "stream",
     "text": [
      "1\n",
      "2\n",
      "Fizz\n",
      "4\n",
      "Buzz\n",
      "Fizz\n",
      "7\n",
      "8\n",
      "Fizz\n",
      "Buzz\n",
      "11\n",
      "Fizz\n",
      "13\n",
      "14\n",
      "FizzBuzz\n",
      "16\n",
      "17\n",
      "Fizz\n",
      "19\n",
      "Buzz\n",
      "Fizz\n",
      "22\n",
      "23\n",
      "Fizz\n",
      "Buzz\n",
      "26\n",
      "Fizz\n",
      "28\n",
      "29\n",
      "FizzBuzz\n",
      "31\n",
      "32\n",
      "Fizz\n",
      "34\n",
      "Buzz\n",
      "Fizz\n",
      "37\n",
      "38\n",
      "Fizz\n",
      "Buzz\n",
      "41\n",
      "Fizz\n",
      "43\n",
      "44\n",
      "FizzBuzz\n",
      "46\n",
      "47\n",
      "Fizz\n",
      "49\n",
      "Buzz\n",
      "Fizz\n",
      "52\n",
      "53\n",
      "Fizz\n",
      "Buzz\n",
      "56\n",
      "Fizz\n",
      "58\n",
      "59\n",
      "FizzBuzz\n",
      "61\n",
      "62\n",
      "Fizz\n",
      "64\n",
      "Buzz\n",
      "Fizz\n",
      "67\n",
      "68\n",
      "Fizz\n",
      "Buzz\n",
      "71\n",
      "Fizz\n",
      "73\n",
      "74\n",
      "FizzBuzz\n",
      "76\n",
      "77\n",
      "Fizz\n",
      "79\n",
      "Buzz\n",
      "Fizz\n",
      "82\n",
      "83\n",
      "Fizz\n",
      "Buzz\n",
      "86\n",
      "Fizz\n",
      "88\n",
      "89\n",
      "FizzBuzz\n",
      "91\n",
      "92\n",
      "Fizz\n",
      "94\n",
      "Buzz\n",
      "Fizz\n",
      "97\n",
      "98\n",
      "Fizz\n",
      "Buzz\n"
     ]
    }
   ],
   "source": [
    "for i in range(1,101):\n",
    "    if (i%15)==0:\n",
    "        print(\"FizzBuzz\")\n",
    "    elif i%3==0:\n",
    "        print(\"Fizz\")\n",
    "    elif i%5==0:\n",
    "        print(\"Buzz\")\n",
    "    else: \n",
    "        print(i)"
   ]
  },
  {
   "cell_type": "markdown",
   "metadata": {},
   "source": [
    "### Problem 1\n",
    "1. Proses iterasi dilakukan dari i==1 sampai i==100\n",
    "2. Jika i adalah kelipatan 15 (sama dengan kelipatan 3 DAN kelipatan 5), maka print \"FizzBuzz\". Jika bukan maka lanjut ke kriteria selanjutnya.\n",
    "3. Jika i adalah kelipatan 3, maka print \"Fizz\". Jika bukan maka lanjut ke kriteria selanjutnya.\n",
    "4. Jika i adalah kelipatan 5, maka print \"Buzz\". Jika bukan maka lanjut ke kriteria selanjutnya.\n",
    "5. Jika i bukan kelipatan 3 atau 5, maka print i"
   ]
  },
  {
   "cell_type": "code",
   "execution_count": 71,
   "metadata": {
    "scrolled": true
   },
   "outputs": [
    {
     "name": "stdout",
     "output_type": "stream",
     "text": [
      "Word = qwertytytrewq\n",
      "Yes\n"
     ]
    }
   ],
   "source": [
    "s = input(\"Word = \")\n",
    "check = 0\n",
    "for i in range(len(s)//2):\n",
    "    if s[i].lower() != s[-(i+1)].lower():\n",
    "        check += 1;\n",
    "        print(\"No\")\n",
    "        break\n",
    "if check==0:\n",
    "    print(\"Yes\")          "
   ]
  },
  {
   "cell_type": "markdown",
   "metadata": {},
   "source": [
    "### Problem 2\n",
    "1. Proses iterasi dilakukan dari i==0 sampai i==(len(s)//2) - 1 supaya mempercepat iterasi.\n",
    "2. Setiap iterasi dilakukan pengecekan pasangan karakter yang dibuat lowercase (untuk mengabaikan case). Pasangan karakter yang dimaksud adalah masing-masing karakter pada posisi 'mirroring' dari semua karakter yang diinput. \n",
    "3. Jika suatu karakter tidak sesuai dengan pasangan karakternya, maka langsung disimpulkan bahwa karakter yang diinput bukan palindrom (No) dan iterasi langsung dihentikan. \n",
    "4. Jika semua karakter sudah sesuai dengan pasangannya sampai proses iterasi berakhir, maka program memberikan output bahwa karakter yang diinput adalah palindrom (Yes)."
   ]
  }
 ],
 "metadata": {
  "kernelspec": {
   "display_name": "Python 3",
   "language": "python",
   "name": "python3"
  },
  "language_info": {
   "codemirror_mode": {
    "name": "ipython",
    "version": 3
   },
   "file_extension": ".py",
   "mimetype": "text/x-python",
   "name": "python",
   "nbconvert_exporter": "python",
   "pygments_lexer": "ipython3",
   "version": "3.8.5"
  }
 },
 "nbformat": 4,
 "nbformat_minor": 4
}
